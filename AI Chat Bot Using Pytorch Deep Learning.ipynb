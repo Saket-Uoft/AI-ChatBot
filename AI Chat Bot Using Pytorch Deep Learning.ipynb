{
 "cells": [
  {
   "cell_type": "code",
   "execution_count": 85,
   "metadata": {},
   "outputs": [
    {
     "name": "stdout",
     "output_type": "stream",
     "text": [
      "Requirement already satisfied: import-ipynb in /home/jupyterlab/conda/envs/python/lib/python3.6/site-packages (0.1.3)\n",
      "Requirement already satisfied: ipynb in /home/jupyterlab/conda/envs/python/lib/python3.6/site-packages (0.5.1)\n"
     ]
    }
   ],
   "source": [
    "import numpy as np\n",
    "!pip install import-ipynb\n",
    "import import_ipynb\n",
    "!pip install ipynb"
   ]
  },
  {
   "cell_type": "code",
   "execution_count": 95,
   "metadata": {},
   "outputs": [],
   "source": [
    "import torch\n",
    "import json\n",
    "import nltk_utils\n",
    "import nltk\n",
    "from nltk_utils import get_ipython\n",
    "from nltk.stem.porter import PorterStemmer\n",
    "import torch\n",
    "import torch.nn as nn\n",
    "from torch.utils.data import Dataset,DataLoader\n",
    "stemmer=PorterStemmer()\n",
    "\n",
    "def tokenize(sentence):\n",
    "    return nltk.word_tokenize(sentence)\n",
    "\n",
    "def stemming(word):\n",
    "    return stemmer.stem(word.lower())\n",
    "\n",
    "def bagofwords(tokenized_sentence,all_words):\n",
    "    tokenized_sentence=[stemming(w) for w in tokenized_sentence]\n",
    "    bag=np.zeros(len(all_words),dtype=np.float32)\n",
    "    for index,word in enumerate(all_words):\n",
    "        if word in tokenized_sentence:\n",
    "            bag[index]=1.0\n",
    "    return bag        \n",
    "    \n",
    "    \n"
   ]
  },
  {
   "cell_type": "code",
   "execution_count": 48,
   "metadata": {},
   "outputs": [],
   "source": [
    "with open(\"intents1.json\",\"r\") as f:\n",
    "    intents=json.load(f)"
   ]
  },
  {
   "cell_type": "code",
   "execution_count": 75,
   "metadata": {},
   "outputs": [],
   "source": [
    "all_words=[]\n",
    "tags=[]\n",
    "xy=[]\n",
    "for intent in intents[\"intents\"]:\n",
    "    tags.append(intent[\"tag\"])\n",
    "    for sentence in intent[\"patterns\"]:\n",
    "        words=tokenize(sentence)\n",
    "        all_words.extend(words)\n",
    "        xy.append((words,intent[\"tag\"]))"
   ]
  },
  {
   "cell_type": "code",
   "execution_count": 76,
   "metadata": {},
   "outputs": [],
   "source": [
    "ignore_words=[\"?\",\".\",\",\",\"!\"]"
   ]
  },
  {
   "cell_type": "code",
   "execution_count": 77,
   "metadata": {},
   "outputs": [
    {
     "data": {
      "text/plain": [
       "88"
      ]
     },
     "execution_count": 77,
     "metadata": {},
     "output_type": "execute_result"
    }
   ],
   "source": [
    "all_words=[stemming(word) for word in all_words if word not in ignore_words]\n",
    "len(all_words)"
   ]
  },
  {
   "cell_type": "code",
   "execution_count": 78,
   "metadata": {},
   "outputs": [],
   "source": [
    "all_words=sorted(set(all_words))"
   ]
  },
  {
   "cell_type": "code",
   "execution_count": 82,
   "metadata": {},
   "outputs": [
    {
     "data": {
      "text/plain": [
       "['delivery', 'funny', 'goodbye', 'greeting', 'items', 'payments', 'thanks']"
      ]
     },
     "execution_count": 82,
     "metadata": {},
     "output_type": "execute_result"
    }
   ],
   "source": [
    "tags=sorted(tags)\n",
    "tags"
   ]
  },
  {
   "cell_type": "code",
   "execution_count": 92,
   "metadata": {},
   "outputs": [],
   "source": [
    "X_train=[]\n",
    "y_train=[]\n",
    "for (sentence,tag) in xy:\n",
    "    bag=bagofwords(sentence,all_words)\n",
    "    X_train.append(bag)\n",
    "    label=tags.index(tag)\n",
    "    y_train.append(label)\n",
    "    \n",
    "X_train=np.array(X_train)\n",
    "y_train=np.array(y_train)"
   ]
  },
  {
   "cell_type": "code",
   "execution_count": 94,
   "metadata": {},
   "outputs": [
    {
     "data": {
      "text/plain": [
       "array([3, 3, 3, 3, 3, 3, 2, 2, 2, 6, 6, 6, 6, 4, 4, 4, 5, 5, 5, 5, 0, 0,\n",
       "       0, 1, 1, 1])"
      ]
     },
     "execution_count": 94,
     "metadata": {},
     "output_type": "execute_result"
    }
   ],
   "source": [
    "X_train\n",
    "y_train"
   ]
  },
  {
   "cell_type": "code",
   "execution_count": 103,
   "metadata": {},
   "outputs": [],
   "source": [
    "class BotDataset:\n",
    "    def __init__(self):\n",
    "        self.num_samples=len(X_train)\n",
    "        self.x_data=X_train\n",
    "        self.y_data=y_train\n",
    "        \n",
    "    def __getitem__(self,index):\n",
    "        return self.x_data[index],self.y_data[index]\n",
    "    \n",
    "    def __len__(self):\n",
    "        return self.num_samples"
   ]
  },
  {
   "cell_type": "code",
   "execution_count": 104,
   "metadata": {},
   "outputs": [],
   "source": [
    "dataset=BotDataset()\n",
    "train_loader=DataLoader(dataset=dataset,batch_size=4,shuffle=True,num_workers=2)"
   ]
  },
  {
   "cell_type": "markdown",
   "metadata": {},
   "source": [
    "### Model Bulding"
   ]
  },
  {
   "cell_type": "code",
   "execution_count": 121,
   "metadata": {},
   "outputs": [],
   "source": [
    "class NeuralNet(nn.Module):\n",
    "    def __init__(self,input_size,size_l1,size_l2,size_l3,num_classes):\n",
    "        super().__init__()\n",
    "        self.l1=nn.Linear(input_size,size_l1)\n",
    "        self.l2=nn.Linear(size_l1,size_l2)\n",
    "        self.l3=nn.Linear(size_l2,size_l3)\n",
    "        self.l4=nn.Linear(size_l3,num_classes)\n",
    "        self.relu=nn.ReLU()\n",
    "        \n",
    "    def forward(self,x):\n",
    "        output=self.l1(x)\n",
    "        output=self.relu(output)\n",
    "        output=self.l2(output)\n",
    "        output=self.relu(output)\n",
    "        output=self.l3(output)\n",
    "        output=self.relu(output)\n",
    "        output=self.l4(output)\n",
    "        return output\n",
    "        \n",
    "            \n",
    "        "
   ]
  },
  {
   "cell_type": "code",
   "execution_count": 122,
   "metadata": {},
   "outputs": [],
   "source": [
    "model=NeuralNet(len(all_words),10,10,10,len(tags))"
   ]
  },
  {
   "cell_type": "code",
   "execution_count": 127,
   "metadata": {},
   "outputs": [
    {
     "data": {
      "text/plain": [
       "<torch.utils.data.dataloader.DataLoader at 0x7f3298c18ba8>"
      ]
     },
     "execution_count": 127,
     "metadata": {},
     "output_type": "execute_result"
    }
   ],
   "source": [
    "criterion=nn.CrossEntropyLoss()\n",
    "optimizer=torch.optim.Adam(model.parameters(),lr=0.001)\n",
    "num_epochs=100\n",
    "train_loader"
   ]
  },
  {
   "cell_type": "code",
   "execution_count": 129,
   "metadata": {},
   "outputs": [
    {
     "name": "stdout",
     "output_type": "stream",
     "text": [
      "epoch: 0 and loss: 1.9511866569519043\n",
      "epoch: 10 and loss: 1.9475420713424683\n",
      "epoch: 20 and loss: 1.8682262897491455\n",
      "epoch: 30 and loss: 1.7405385971069336\n",
      "epoch: 40 and loss: 1.4622106552124023\n",
      "epoch: 50 and loss: 0.9311925172805786\n",
      "epoch: 60 and loss: 1.377343773841858\n",
      "epoch: 70 and loss: 0.8028870820999146\n",
      "epoch: 80 and loss: 0.5381895303726196\n",
      "epoch: 90 and loss: 0.2879246175289154\n"
     ]
    }
   ],
   "source": [
    "for epoch in range(num_epochs):\n",
    "    for (words,label) in train_loader:\n",
    "        pred=model.forward(words)\n",
    "        loss=criterion(pred,label)\n",
    "        optimizer.zero_grad()\n",
    "        loss.backward()\n",
    "        optimizer.step()\n",
    "        \n",
    "    if epoch%10==0:\n",
    "        print(\"epoch: {} and loss: {}\".format(epoch,loss.item()))\n",
    "    \n",
    "    "
   ]
  },
  {
   "cell_type": "markdown",
   "metadata": {},
   "source": [
    "### Implementing Chat Bot "
   ]
  },
  {
   "cell_type": "code",
   "execution_count": 135,
   "metadata": {},
   "outputs": [
    {
     "data": {
      "text/plain": [
       "NeuralNet(\n",
       "  (l1): Linear(in_features=54, out_features=10, bias=True)\n",
       "  (l2): Linear(in_features=10, out_features=10, bias=True)\n",
       "  (l3): Linear(in_features=10, out_features=10, bias=True)\n",
       "  (l4): Linear(in_features=10, out_features=7, bias=True)\n",
       "  (relu): ReLU()\n",
       ")"
      ]
     },
     "execution_count": 135,
     "metadata": {},
     "output_type": "execute_result"
    }
   ],
   "source": [
    "model.eval()"
   ]
  },
  {
   "cell_type": "code",
   "execution_count": 136,
   "metadata": {},
   "outputs": [
    {
     "data": {
      "text/plain": [
       "NeuralNet(\n",
       "  (l1): Linear(in_features=54, out_features=10, bias=True)\n",
       "  (l2): Linear(in_features=10, out_features=10, bias=True)\n",
       "  (l3): Linear(in_features=10, out_features=10, bias=True)\n",
       "  (l4): Linear(in_features=10, out_features=7, bias=True)\n",
       "  (relu): ReLU()\n",
       ")"
      ]
     },
     "execution_count": 136,
     "metadata": {},
     "output_type": "execute_result"
    }
   ],
   "source": [
    "model"
   ]
  },
  {
   "cell_type": "code",
   "execution_count": null,
   "metadata": {},
   "outputs": [],
   "source": [
    "bot_name = \"Sam\"\n",
    "print(\"Let's chat! (type 'quit' to exit)\")\n",
    "while True:\n",
    "    # sentence = \"do you use credit cards?\"\n",
    "    sentence = input(\"You: \")\n",
    "    if sentence == \"quit\":\n",
    "        break\n",
    "\n",
    "    sentence = tokenize(sentence)\n",
    "    X = bag_of_words(sentence, all_words)\n",
    "    X = X.reshape(1, X.shape[0])\n",
    "    X = torch.from_numpy(X).to(device)\n",
    "\n",
    "    output = model(X)\n",
    "    _, predicted = torch.max(output, dim=1)\n",
    "\n",
    "    tag = tags[predicted.item()]\n",
    "\n",
    "    probs = torch.softmax(output, dim=1)\n",
    "    prob = probs[0][predicted.item()]\n",
    "    if prob.item() > 0.75:\n",
    "        for intent in intents['intents']:\n",
    "            if tag == intent[\"tag\"]:\n",
    "                print(f\"{bot_name}: {random.choice(intent['responses'])}\")\n",
    "    else:\n",
    "        print(f\"{bot_name}: I do not understand...\")"
   ]
  },
  {
   "cell_type": "code",
   "execution_count": null,
   "metadata": {},
   "outputs": [],
   "source": []
  }
 ],
 "metadata": {
  "kernelspec": {
   "display_name": "Python",
   "language": "python",
   "name": "conda-env-python-py"
  },
  "language_info": {
   "codemirror_mode": {
    "name": "ipython",
    "version": 3
   },
   "file_extension": ".py",
   "mimetype": "text/x-python",
   "name": "python",
   "nbconvert_exporter": "python",
   "pygments_lexer": "ipython3",
   "version": "3.6.11"
  }
 },
 "nbformat": 4,
 "nbformat_minor": 4
}
